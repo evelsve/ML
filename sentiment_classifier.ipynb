{
 "cells": [
  {
   "cell_type": "markdown",
   "metadata": {},
   "source": [
    "# Sentiment Polarity for Movie Reviews"
   ]
  },
  {
   "cell_type": "markdown",
   "metadata": {},
   "source": [
    "In this notebook you will find:\n",
    "\n",
    "- Some comments on the design choices and results\n",
    "- Data preprocessing\n",
    "- Feature extraction\n",
    "- Model implementation\n",
    "- Hyperparameter exploration\n",
    "- Model performance evaluation"
   ]
  },
  {
   "cell_type": "markdown",
   "metadata": {},
   "source": [
    "## Some comments\n",
    "\n",
    "### On design choices:\n",
    "\n",
    "**Data processing:** The files are appended in two separate lists, which can be beneficial as it's easier to keep track of the files, yet at the same time detrimental: if it were the case of many categories, e.g. brands or musical bands, \"glueing\" together lists would not be an optimal solution. Regarding tokenization, Instead of applying nltk libraries, a naive tokenizer was used, which may have had an effect on the models ability to learn. \n",
    "\n",
    "**Data splitting:** The data split method used in the notebook does not randomize the data set. This results in training set always being at the front and test set at the back of the list. However, it does account for equal representation of negative versus positive reviews. \n",
    "    \n",
    "\n",
    "\n",
    "### On the results:\n",
    "\n",
    "**Decision boundary:** Such words as \"unfortunately, boring, worst\" carry negative weights, whereas \"perfect, best, memorable\" are associated with positive weights. Some interesting mentions are \"ridiculous\" and \"hilarious\" associated with negative and positive connotations, respectively, even though the differentiation of the connotations could be troublesome in some contexts. In addition, are punctuation marks, which are associated with negative reviews: in order to have cleaner output, good practices dictate the removal of punctuation marks, yet it may indicate the tendency to use punctuation marks in order to emphasise disapproval. Some unexpected results include the comparative \"better\" as negative, yet it may be explained as its use is in comparing the subject to its superior object. Some social insight about the data could also be drawn as \"american\" is associated with a highly positive weight.\n",
    "    \n",
    "**Hyperparameters:** Interestingly enough, regulariser dampening had a much bigger effect on accuracy compared to learning rate. However, loss decreases much faster when a higher learning rate is applied. No matter the hyperparameter choice, loss is very unstable for the first 40 iterations, and then decreases steadily until convergence. "
   ]
  },
  {
   "cell_type": "markdown",
   "metadata": {},
   "source": [
    "### Loading data"
   ]
  },
  {
   "cell_type": "code",
   "execution_count": 1,
   "metadata": {},
   "outputs": [],
   "source": [
    "import os, re"
   ]
  },
  {
   "cell_type": "code",
   "execution_count": 2,
   "metadata": {},
   "outputs": [],
   "source": [
    "def from_txt(path_name):\n",
    "    all_txt_list = list()\n",
    "    title_list = [title for title in os.listdir(path_name) if title.endswith('.txt')]\n",
    "    for title in title_list:\n",
    "        with open(os.path.join(path_name, title)) as f:\n",
    "            txt_from_file = list()\n",
    "            for line in f:\n",
    "                line = line.strip()\n",
    "                txt_from_file.append(line)\n",
    "            txt_from_file = ''.join(txt_from_file)\n",
    "            all_txt_list.append(txt_from_file)\n",
    "    return all_txt_list"
   ]
  },
  {
   "cell_type": "code",
   "execution_count": 3,
   "metadata": {},
   "outputs": [],
   "source": [
    "neg_txt = from_txt(\"./txt_sentoken/neg\")\n",
    "pos_txt = from_txt(\"./txt_sentoken/pos\")"
   ]
  },
  {
   "cell_type": "markdown",
   "metadata": {},
   "source": [
    "## Part 1: Parsing"
   ]
  },
  {
   "cell_type": "code",
   "execution_count": 4,
   "metadata": {},
   "outputs": [],
   "source": [
    "import numpy as np"
   ]
  },
  {
   "cell_type": "code",
   "execution_count": 5,
   "metadata": {},
   "outputs": [],
   "source": [
    "def tokenize_it(prepros_list):\n",
    "    \n",
    "    digits = '\\d+(\\.|,)(\\d*|[^a-z])'\n",
    "    contractions = '(n?\\'\\w+)'\n",
    "    negated = '\\w+(?=n\\'t)'\n",
    "    signs = '([%\\$&])'\n",
    "    punctuation = '[-\\'\\`]+|[,;:\\\"\\'()]' #order is important\n",
    "    abbrevs = '([A-Z]([a-z]{0,3}|[A-Z]\\.)\\.)+'\n",
    "    combos = '(\\w+(-\\w+)+)'\n",
    "    words = '\\w+'\n",
    "    end = '[\\.\\?!\\\"]'\n",
    "    \n",
    "    tokenized_lists = list()\n",
    "    tokens = list()\n",
    "    for some in prepros_list:\n",
    "        token_list = list()\n",
    "        for token in re.findall(\n",
    "            f'({contractions}|{negated}|{combos}|{digits}|{signs}|{punctuation}|{abbrevs}|{words}|{end})',\n",
    "            some):\n",
    "            token_list.append(token[0])\n",
    "            tokens.append(token[0])\n",
    "        tokenized_lists.append(token_list), tokens\n",
    "    return tokenized_lists"
   ]
  },
  {
   "cell_type": "code",
   "execution_count": 6,
   "metadata": {},
   "outputs": [],
   "source": [
    "neg_rev_lists = tokenize_it(neg_txt)\n",
    "pos_rev_lists = tokenize_it(pos_txt)"
   ]
  },
  {
   "cell_type": "markdown",
   "metadata": {},
   "source": [
    "### Splitting data"
   ]
  },
  {
   "cell_type": "code",
   "execution_count": 7,
   "metadata": {},
   "outputs": [],
   "source": [
    "# in this case they are the same lenght but may be different in other cases\n",
    "\n",
    "split_80_n = int(len(neg_rev_lists)*0.8)\n",
    "split_80_p = int(len(pos_rev_lists)*0.8)\n",
    "\n",
    "# for training\n",
    "raw_neg = neg_rev_lists[:split_80_n]\n",
    "raw_pos = pos_rev_lists[:split_80_p]\n",
    "X_raw = raw_neg+raw_pos\n",
    "\n",
    "# for testing\n",
    "X_raw_test = neg_rev_lists[split_80_n:] + pos_rev_lists[split_80_p:]"
   ]
  },
  {
   "cell_type": "markdown",
   "metadata": {},
   "source": [
    "### Creating y axis"
   ]
  },
  {
   "cell_type": "code",
   "execution_count": 8,
   "metadata": {},
   "outputs": [
    {
     "data": {
      "text/plain": [
       "((1600,), (400,))"
      ]
     },
     "execution_count": 8,
     "metadata": {},
     "output_type": "execute_result"
    }
   ],
   "source": [
    "y_neg = np.full((int(len(X_raw)/2)), -1, dtype=int)\n",
    "y_pos = np.full((int(len(X_raw)/2)), 1, dtype=int)\n",
    "y = np.append(y_neg, y_pos)\n",
    "y_test_neg = np.full((int(len(X_raw_test)/2)), -1, dtype=int)\n",
    "y_test_pos = np.full((int(len(X_raw_test)/2)), 1, dtype=int)\n",
    "y_test = np.append(y_test_neg, y_test_pos)\n",
    "y.shape, y_test.shape"
   ]
  },
  {
   "cell_type": "code",
   "execution_count": 9,
   "metadata": {},
   "outputs": [
    {
     "data": {
      "text/plain": [
       "1600"
      ]
     },
     "execution_count": 9,
     "metadata": {},
     "output_type": "execute_result"
    }
   ],
   "source": [
    "len(X_raw)"
   ]
  },
  {
   "cell_type": "markdown",
   "metadata": {},
   "source": [
    "### Checking assumptions nr. 1"
   ]
  },
  {
   "cell_type": "code",
   "execution_count": 10,
   "metadata": {},
   "outputs": [],
   "source": [
    "# X_temp is only for checking assumptions, I use list of lists of tokens instead.\n",
    "X_temp = list()\n",
    "for review in X_raw:\n",
    "    for token in review:\n",
    "        tokens_str = ''.join(token)\n",
    "    X_temp.append(tokens_str)"
   ]
  },
  {
   "cell_type": "code",
   "execution_count": 11,
   "metadata": {},
   "outputs": [],
   "source": [
    "assert np.all([isinstance(x, str) for x in X_temp])\n",
    "assert len(X_raw) == y.shape[0]\n",
    "assert len(np.unique(y))==2\n",
    "assert y.min() == -1\n",
    "assert y.max() == 1"
   ]
  },
  {
   "cell_type": "markdown",
   "metadata": {},
   "source": [
    "## Part 2: Feature extraction"
   ]
  },
  {
   "cell_type": "code",
   "execution_count": 12,
   "metadata": {},
   "outputs": [],
   "source": [
    "def get_dictionaries(data):\n",
    "    frequency_dictionary = dict()\n",
    "    tokens = list()\n",
    "    keys = list()\n",
    "    index_dictionary = dict()\n",
    "    for token_list in data:\n",
    "        for token in token_list:\n",
    "            tokens.append(token)\n",
    "            if token in frequency_dictionary:\n",
    "                frequency_dictionary[token] += 1\n",
    "            else:\n",
    "                frequency_dictionary[token] = 1\n",
    "                # keys is a separate list,\n",
    "                # because dict.keys() is dict_keys type, needed a list\n",
    "                keys.append(token) \n",
    "    sorted_vocabulary = sorted(keys)\n",
    "    for i, token in enumerate(sorted_vocabulary):\n",
    "        index_dictionary[token] = i\n",
    "    return frequency_dictionary, keys, sorted_vocabulary, tokens, index_dictionary"
   ]
  },
  {
   "cell_type": "code",
   "execution_count": 13,
   "metadata": {},
   "outputs": [
    {
     "name": "stdout",
     "output_type": "stream",
     "text": [
      "Documents: 1600 Unique words: 41986 Corpus size: 1224570\n"
     ]
    }
   ],
   "source": [
    "freq, vocab, ord_vocab, tokens, index_dict = get_dictionaries(X_raw)\n",
    "print('Documents:', len(X_raw), 'Unique words:', len(vocab), 'Corpus size:', len(tokens))"
   ]
  },
  {
   "cell_type": "code",
   "execution_count": 14,
   "metadata": {},
   "outputs": [],
   "source": [
    "def to_bag_of_words(doc_list, ordered_vocabulary, indexed_dictionary):\n",
    "    bow_matrix = np.zeros((len(doc_list), len(ordered_vocabulary)), dtype=int)\n",
    "    for index, doc in enumerate(doc_list):\n",
    "        for tok in doc:\n",
    "            if tok in indexed_dictionary:\n",
    "                bow_matrix[index, indexed_dictionary[tok]] = int(1)\n",
    "    return bow_matrix"
   ]
  },
  {
   "cell_type": "code",
   "execution_count": 15,
   "metadata": {},
   "outputs": [],
   "source": [
    "X = to_bag_of_words(X_raw, ord_vocab, index_dict)"
   ]
  },
  {
   "cell_type": "markdown",
   "metadata": {},
   "source": [
    "### Checking assumptions nr. 2"
   ]
  },
  {
   "cell_type": "code",
   "execution_count": 16,
   "metadata": {},
   "outputs": [
    {
     "name": "stdout",
     "output_type": "stream",
     "text": [
      "'dolphin' is represented as feature dimension 11150\n",
      "'the' is represented as feature dimension 37344\n",
      "'good' is represented as feature dimension 15948\n",
      "'humongous' is not in the vocabulary\n",
      "['alberto', 'albertson', 'albino', 'albinos', 'album', 'albums', 'alc', 'alcatraz', 'alchemy', 'alcohol']\n",
      "[[0 0 0 0 0 0 0 0 0 0]\n",
      " [0 0 0 0 0 0 0 0 0 0]\n",
      " [0 0 0 0 0 0 0 0 0 0]\n",
      " [0 0 0 0 0 0 0 0 0 0]\n",
      " [0 0 0 0 0 0 0 0 0 0]\n",
      " [0 0 0 0 0 0 0 0 0 0]\n",
      " [0 0 0 0 0 0 0 0 0 0]\n",
      " [0 0 0 0 0 0 0 0 0 0]\n",
      " [0 0 0 0 0 0 0 0 0 0]\n",
      " [0 0 0 0 0 0 0 0 0 0]]\n",
      "'dolphin' in words: True\n",
      "'theeeeee' in words: False\n",
      "'coffee' in words: True\n"
     ]
    }
   ],
   "source": [
    "lut = dict()\n",
    "for i, word in enumerate(ord_vocab):\n",
    "    lut[word] = i\n",
    "\n",
    "for word in ['dolphin', 'the', 'good', 'humongous']:\n",
    "    if word in vocab:\n",
    "        print(\"'%s' is represented as feature dimension %i\" %(word, lut[word]))\n",
    "    else:\n",
    "        print(\"'%s' is not in the vocabulary\" % word)\n",
    "        \n",
    "print(ord_vocab[2000:2010])\n",
    "print(X[:10, 2000:2010])\n",
    "for w in ['dolphin', 'theeeeee', 'coffee']:\n",
    "  print(\"'%s' in words: %s\" % (w, w in vocab))"
   ]
  },
  {
   "cell_type": "code",
   "execution_count": 17,
   "metadata": {},
   "outputs": [
    {
     "name": "stdout",
     "output_type": "stream",
     "text": [
      "Coast clear, probably\n"
     ]
    }
   ],
   "source": [
    "# This cell is just for debugging\n",
    "index = 900\n",
    "fail_checker_dict = dict()\n",
    "for token in X_raw[index]:\n",
    "    if token in fail_checker_dict:\n",
    "        fail_checker_dict[token] += 1\n",
    "    else:\n",
    "        fail_checker_dict[token] = 1\n",
    "\n",
    "if len(fail_checker_dict) == np.sum(X[index]):\n",
    "    print('Coast clear, probably')\n",
    "else:\n",
    "    print('Something went wrong.')"
   ]
  },
  {
   "cell_type": "code",
   "execution_count": 22,
   "metadata": {},
   "outputs": [],
   "source": [
    "# pseudo_input = np.ones(len(X))\n",
    "# pseudo_input = pseudo_input.T\n",
    "# X = np.insert(X, 0, pseudo_input, axis=1)\n",
    "# X.shape, pseudo_input.shape"
   ]
  },
  {
   "cell_type": "markdown",
   "metadata": {},
   "source": [
    "## Part 3: Model"
   ]
  },
  {
   "cell_type": "code",
   "execution_count": 30,
   "metadata": {},
   "outputs": [],
   "source": [
    "import matplotlib.pyplot as plt"
   ]
  },
  {
   "cell_type": "code",
   "execution_count": 31,
   "metadata": {},
   "outputs": [],
   "source": [
    "class model:\n",
    "    def __init__(self, learning_rate=0.01, reg_dampening=0.01, iterations=250, verbose=False, visualise=False):\n",
    "        self.learning_rate = learning_rate\n",
    "        self.reg_dampening = reg_dampening\n",
    "        self.iterations = iterations\n",
    "        self.verbose = verbose\n",
    "        self.visualise = visualise\n",
    "    \n",
    "    def fit(self, X, y):\n",
    "        def theta_generator(X, theta):\n",
    "            return X.T.dot(theta).ravel()\n",
    "        \n",
    "        def hinge_loss(X, y, theta):\n",
    "            hinge_loss = 0\n",
    "            for i in range(len(X)): \n",
    "                hinge_loss += max(0, 1-y[i]*theta_generator(X[i], theta)) \n",
    "            return (self.reg_dampening/2)*(np.linalg.norm(theta)**2) + hinge_loss\n",
    "       \n",
    "        def update_gradient(X, y, theta):\n",
    "            sigma = np.zeros(X.shape[1])\n",
    "            for i in range(X.shape[0]):\n",
    "                if y[i]*theta_generator(X[i], theta) >= 1:\n",
    "                    continue\n",
    "                else:\n",
    "                    sigma += (-y[i]*X[i])\n",
    "            return self.reg_dampening*theta + sigma\n",
    "        \n",
    "        init_theta = np.random.randint(0, 1, (X.shape[1]))\n",
    "        theta_history = [init_theta]\n",
    "        loss_history = [hinge_loss(X, y, init_theta)[0]]\n",
    "        converged = False\n",
    "        i = 0\n",
    "        while not converged and i < self.iterations:\n",
    "            # creating new theta\n",
    "            self.theta = theta_history[i] - self.learning_rate*update_gradient(X, y, theta_history[i])\n",
    "            # calculating loss\n",
    "            loss = hinge_loss(X, y, self.theta)\n",
    "            theta_history.append(self.theta)\n",
    "            loss_history.append(loss)\n",
    "            convergence = loss_history[i] - loss\n",
    "            i += 1\n",
    "            if self.verbose:\n",
    "                print(\"%20s \\t %.3f  \\t%f\" % (i, loss, convergence))\n",
    "            if convergence < 0.01:\n",
    "                if loss == min(loss_history):\n",
    "                    converged = True\n",
    "        if i != self.iterations:\n",
    "            print('Convergence achieved on iteration:', i)\n",
    "        if self.visualise:\n",
    "            plt.plot(loss_history)\n",
    "            plt.ylabel('Loss')\n",
    "            plt.show()\n",
    "        return self.theta \n",
    "    \n",
    "    def predict(self, X):\n",
    "        return np.sign(X.T.dot(self.theta).ravel())\n",
    "    \n",
    "    def score(self, X, y):\n",
    "        correct, incorrect = 0, 0\n",
    "        for i in range(X.shape[0]):\n",
    "            y_hat = self.predict(X[i,:])\n",
    "            if y_hat == y[i]:\n",
    "                correct += 1\n",
    "            else:\n",
    "                incorrect += 1\n",
    "        return round(correct/X.shape[0], 4)"
   ]
  },
  {
   "cell_type": "code",
   "execution_count": 32,
   "metadata": {},
   "outputs": [],
   "source": [
    "# Ignoring matplotlib Deprecation warnings\n",
    "import warnings\n",
    "warnings.filterwarnings(\"ignore\")"
   ]
  },
  {
   "cell_type": "code",
   "execution_count": 33,
   "metadata": {},
   "outputs": [
    {
     "data": {
      "image/png": "[encoded data removed]",
      "text/plain": [
       "<Figure size 432x288 with 1 Axes>"
      ]
     },
     "metadata": {
      "needs_background": "light"
     },
     "output_type": "display_data"
    },
    {
     "data": {
      "text/plain": [
       "array([-0.04187763, -4.24982339, -1.04365207, ...,  0.26993377,\n",
       "       -0.16497311,  0.06598456])"
      ]
     },
     "execution_count": 33,
     "metadata": {},
     "output_type": "execute_result"
    }
   ],
   "source": [
    "alpha = model(learning_rate=0.003, reg_dampening=0.001, iterations=100, visualise=True)\n",
    "alpha.fit(X, y)"
   ]
  },
  {
   "cell_type": "code",
   "execution_count": 34,
   "metadata": {},
   "outputs": [
    {
     "name": "stdout",
     "output_type": "stream",
     "text": [
      "Accuracy achieved by model compared to train set: 99.5 %\n"
     ]
    }
   ],
   "source": [
    "print('Accuracy achieved by model compared to train set:', alpha.score(X, y)*100, '%')"
   ]
  },
  {
   "cell_type": "markdown",
   "metadata": {},
   "source": [
    "### Checking assumptions nr. 3"
   ]
  },
  {
   "cell_type": "code",
   "execution_count": 35,
   "metadata": {},
   "outputs": [
    {
     "data": {
      "image/png": "[encoded data removed]",
      "text/plain": [
       "<Figure size 1440x216 with 1 Axes>"
      ]
     },
     "metadata": {
      "needs_background": "light"
     },
     "output_type": "display_data"
    }
   ],
   "source": [
    "import matplotlib.pyplot as plt\n",
    " \n",
    "plt.figure(figsize=(20, 3))\n",
    "plt.plot(alpha.theta[1:])\n",
    "plt.xlabel(\"Value\")\n",
    "plt.xlabel(\"Weights\")\n",
    "plt.show()"
   ]
  },
  {
   "cell_type": "code",
   "execution_count": 49,
   "metadata": {},
   "outputs": [
    {
     "name": "stdout",
     "output_type": "stream",
     "text": [
      "                Word   Weight  Occurences\n",
      "                save   -2.789\t230 \n",
      "              strong   2.819\t213 \n",
      "              family   2.828\t515 \n",
      "               there   -2.834\t3025 \n",
      "                 him   2.843\t2131 \n",
      "              subtle   2.861\t103 \n",
      "              better   -2.864\t719 \n",
      "              allows   2.876\t80 \n",
      "            material   -2.876\t197 \n",
      "                 've   2.924\t679 \n",
      "               until   2.936\t345 \n",
      "           effective   2.939\t139 \n",
      "                 fun   2.957\t453 \n",
      "              ending   2.981\t332 \n",
      "           extremely   2.984\t205 \n",
      "              simple   3.017\t221 \n",
      "               guess   -3.053\t184 \n",
      "               tries   -3.059\t295 \n",
      "                  no   -3.113\t1908 \n",
      "               gives   3.113\t416 \n",
      "          definitely   3.113\t141 \n",
      "                your   3.146\t707 \n",
      "            dialogue   -3.170\t427 \n",
      "                town   3.182\t311 \n",
      "               films   3.209\t1218 \n",
      "               fails   -3.212\t133 \n",
      "               world   3.257\t829 \n",
      "              begins   3.260\t299 \n",
      "              poorly   -3.269\t68 \n",
      "            terrific   3.281\t92 \n",
      "            terrible   -3.290\t116 \n",
      "           sometimes   3.290\t221 \n",
      "               worse   -3.302\t200 \n",
      "           perfectly   3.302\t130 \n",
      "           wonderful   3.356\t180 \n",
      "               works   3.401\t286 \n",
      "             attempt   -3.446\t207 \n",
      "              wasted   -3.479\t82 \n",
      "               right   3.497\t626 \n",
      "              people   3.530\t1186 \n",
      "           excellent   3.539\t147 \n",
      "               point   -3.560\t542 \n",
      "                 see   3.572\t1415 \n",
      "                 're   -3.587\t812 \n",
      "                most   3.626\t1848 \n",
      "           memorable   3.635\t113 \n",
      "                none   -3.674\t187 \n",
      "            american   3.713\t410 \n",
      "                true   3.746\t307 \n",
      "             problem   -3.791\t301 \n",
      "               could   -3.863\t1308 \n",
      "            director   -3.890\t969 \n",
      "                have   -3.899\t4038 \n",
      "              reason   -3.905\t355 \n",
      "                dull   -3.914\t106 \n",
      "               maybe   -3.920\t266 \n",
      "                here   -3.920\t953 \n",
      "           different   3.926\t360 \n",
      "         performance   3.938\t693 \n",
      "                lame   -3.956\t95 \n",
      "                many   3.959\t1021 \n",
      "                seen   4.010\t723 \n",
      "                mess   -4.019\t122 \n",
      "                some   -4.046\t2401 \n",
      "               quite   4.070\t524 \n",
      "                poor   -4.079\t171 \n",
      "             overall   4.079\t137 \n",
      "             perfect   4.112\t275 \n",
      "               great   4.151\t885 \n",
      "                well   4.190\t1354 \n",
      "                 yet   4.214\t498 \n",
      "                   !   -4.250\t1411 \n",
      "               waste   -4.268\t121 \n",
      "                 why   -4.283\t692 \n",
      "          ridiculous   -4.367\t111 \n",
      "                 job   4.442\t443 \n",
      "          especially   4.475\t372 \n",
      "               awful   -4.541\t109 \n",
      "               least   -4.547\t530 \n",
      "                only   -4.625\t2000 \n",
      "              others   4.691\t226 \n",
      "              should   -4.730\t755 \n",
      "        performances   4.748\t331 \n",
      "                life   4.796\t1195 \n",
      "                very   4.916\t1474 \n",
      "           hilarious   4.979\t173 \n",
      "               looks   -5.042\t365 \n",
      "              stupid   -5.063\t197 \n",
      "                best   5.240\t1031 \n",
      "                both   5.567\t708 \n",
      "                   ?   -5.614\t2994 \n",
      "                also   5.633\t1567 \n",
      "            supposed   -5.663\t257 \n",
      "       unfortunately   -5.696\t312 \n",
      "             nothing   -6.005\t647 \n",
      "              boring   -6.038\t212 \n",
      "              script   -6.314\t631 \n",
      "                plot   -7.090\t1180 \n",
      "               worst   -7.108\t260 \n",
      "                 bad   -10.356\t1085 \n"
     ]
    }
   ],
   "source": [
    "assert (len(alpha.theta)-1) == len(ord_vocab)\n",
    "idx = np.argsort(np.abs(alpha.theta[1:]))\n",
    "print(\"                Word   Weight  Occurences\")\n",
    "for i in idx[-100:]:\n",
    "    print(\"%20s   %.3f\\t%i \" % (ord_vocab[i], alpha.theta[i+1], freq[ord_vocab[i]]))"
   ]
  },
  {
   "cell_type": "code",
   "execution_count": 50,
   "metadata": {},
   "outputs": [
    {
     "name": "stdout",
     "output_type": "stream",
     "text": [
      "Positive wieghts: 21857 \n",
      "Negative weights: 20130\n"
     ]
    }
   ],
   "source": [
    "pos_weight, neg_weight, neutral = 0, 0, 0\n",
    "for i in alpha.theta:\n",
    "    if i > 0:\n",
    "        pos_weight += 1\n",
    "    else:\n",
    "        neg_weight +=1\n",
    "    \n",
    "print(\"Positive wieghts: %i \\nNegative weights: %i\" % (pos_weight, neg_weight))"
   ]
  },
  {
   "cell_type": "markdown",
   "metadata": {},
   "source": [
    "## Part 4: exploring hyperparamaters"
   ]
  },
  {
   "cell_type": "code",
   "execution_count": 38,
   "metadata": {},
   "outputs": [],
   "source": [
    "def create_grid():\n",
    "    grid = list()\n",
    "    hyperparameters = {'Learning rate': np.exp(np.linspace(np.log(0.0001), np.log(3), 10)),\n",
    "                       'Reg. dampening': np.exp(np.linspace(np.log(0.0001), np.log(3), 10))}\n",
    "    for ler_rate in hyperparameters['Learning rate']:\n",
    "        for reg_damp in hyperparameters['Reg. dampening']:\n",
    "            grid.append((ler_rate, reg_damp))\n",
    "    return grid"
   ]
  },
  {
   "cell_type": "code",
   "execution_count": 39,
   "metadata": {},
   "outputs": [],
   "source": [
    "import random\n",
    "\n",
    "def set_hyperparameters(X, y, grid, iterations, trials=10):\n",
    "    acc_history = dict()\n",
    "    parameters_history = dict()\n",
    "    model_history = dict()\n",
    "    max_acc, max_index = 0, 0\n",
    "    print(\"Learning rate:\\tReg.dampening:\\tAccuracy:\")\n",
    "    for trial in range(trials):\n",
    "        learning_rate = grid[random.randint(1, len(grid))][0]\n",
    "        reguliser_dampening = grid[random.randint(1, len(grid))][1]\n",
    "        model_history[trial] = model(iterations=iterations,reg_dampening=reguliser_dampening, learning_rate=learning_rate)\n",
    "        model_history[trial].fit(X, y)\n",
    "        acc_history[trial] = model_history[trial].score(X, y)*100\n",
    "        parameters_history[trial] = (learning_rate, reguliser_dampening)\n",
    "        print(\"%.5f\\t\\t%.5f\\t\\t%.1f%%\" % (learning_rate, reguliser_dampening, acc_history[trial]))\n",
    "        if acc_history[trial] > max_acc:\n",
    "            max_acc = acc_history[trial]\n",
    "            max_index = trial\n",
    "    print('Best hyperparamters (learning rate and reg. dampening):', round(parameters_history[max_index][0], 4), round(parameters_history[max_index][1], 4))\n",
    "    print('Best accuracy:',acc_history[max_index])\n",
    "    return model_history"
   ]
  },
  {
   "cell_type": "code",
   "execution_count": 40,
   "metadata": {},
   "outputs": [
    {
     "name": "stdout",
     "output_type": "stream",
     "text": [
      "Learning rate:\tReg.dampening:\tAccuracy:\n",
      "0.30353\t\t0.00099\t\t92.9%\n",
      "0.30353\t\t0.09655\t\t50.8%\n",
      "0.30353\t\t0.00977\t\t81.3%\n",
      "0.09655\t\t0.09655\t\t59.6%\n",
      "0.00010\t\t0.00031\t\t70.4%\n",
      "0.09655\t\t0.95425\t\t50.0%\n",
      "0.95425\t\t3.00000\t\t50.0%\n",
      "0.03071\t\t0.00010\t\t92.8%\n",
      "0.30353\t\t0.00099\t\t92.9%\n",
      "0.03071\t\t0.00099\t\t92.9%\n",
      "0.00010\t\t0.09655\t\t70.4%\n",
      "0.00099\t\t0.00010\t\t90.4%\n",
      "0.00031\t\t0.00099\t\t75.4%\n",
      "0.00010\t\t0.30353\t\t70.4%\n",
      "0.00010\t\t0.00031\t\t70.4%\n",
      "0.00031\t\t0.00977\t\t75.4%\n",
      "0.03071\t\t0.00010\t\t92.8%\n",
      "0.00031\t\t0.00031\t\t75.4%\n",
      "0.00977\t\t0.00977\t\t92.8%\n",
      "0.03071\t\t0.03071\t\t91.8%\n",
      "0.00099\t\t3.00000\t\t74.2%\n",
      "0.00099\t\t0.00311\t\t90.4%\n",
      "0.09655\t\t0.00031\t\t92.9%\n",
      "0.00099\t\t0.30353\t\t90.1%\n",
      "3.00000\t\t0.00010\t\t92.9%\n",
      "Best hyperparamters (learning rate and reg. dampening): 0.3035 0.001\n",
      "Best accuracy: 92.86999999999999\n"
     ]
    }
   ],
   "source": [
    "grid = create_grid()\n",
    "hypers = set_hyperparameters(X, y, grid, iterations=50, trials=25)"
   ]
  },
  {
   "cell_type": "code",
   "execution_count": 41,
   "metadata": {},
   "outputs": [
    {
     "name": "stdout",
     "output_type": "stream",
     "text": [
      "Convergence achieved on iteration: 155\n"
     ]
    },
    {
     "data": {
      "image/png": "[encoded data removed]",
      "text/plain": [
       "<Figure size 432x288 with 1 Axes>"
      ]
     },
     "metadata": {
      "needs_background": "light"
     },
     "output_type": "display_data"
    },
    {
     "data": {
      "text/plain": [
       "array([ -0.29297895, -13.59786004,  -2.94024718, ...,   0.88895136,\n",
       "        -0.51775409,   0.21491207])"
      ]
     },
     "execution_count": 41,
     "metadata": {},
     "output_type": "execute_result"
    }
   ],
   "source": [
    "final_model = model(iterations=300, learning_rate=0.00977, reg_dampening=0.00010, visualise=True)\n",
    "final_model.fit(X, y)"
   ]
  },
  {
   "cell_type": "code",
   "execution_count": 42,
   "metadata": {},
   "outputs": [
    {
     "name": "stdout",
     "output_type": "stream",
     "text": [
      "Accuracy achieved by model compared to train set: 100.0 %\n"
     ]
    }
   ],
   "source": [
    "print('Accuracy achieved by model compared to train set:', final_model.score(X, y)*100, '%')"
   ]
  },
  {
   "cell_type": "code",
   "execution_count": 43,
   "metadata": {},
   "outputs": [
    {
     "data": {
      "image/png": "[encoded data removed]",
      "text/plain": [
       "<Figure size 432x288 with 1 Axes>"
      ]
     },
     "metadata": {
      "needs_background": "light"
     },
     "output_type": "display_data"
    },
    {
     "data": {
      "text/plain": [
       "array([  -7.79524023, -367.98850356,  -79.094034  , ...,   23.90046779,\n",
       "        -14.02888477,    5.78412355])"
      ]
     },
     "execution_count": 43,
     "metadata": {},
     "output_type": "execute_result"
    }
   ],
   "source": [
    "alpha_2 = model(iterations=500, learning_rate=0.30353, reg_dampening=0.00099, visualise=True)\n",
    "alpha_2.fit(X, y)"
   ]
  },
  {
   "cell_type": "code",
   "execution_count": 44,
   "metadata": {},
   "outputs": [
    {
     "name": "stdout",
     "output_type": "stream",
     "text": [
      "Accuracy of alpha_2: 100.0%\n"
     ]
    }
   ],
   "source": [
    "print(\"Accuracy of alpha_2:\", str(alpha_2.score(X, y)*100)+'%')"
   ]
  },
  {
   "cell_type": "markdown",
   "metadata": {},
   "source": [
    "### Checking model performance on test set"
   ]
  },
  {
   "cell_type": "code",
   "execution_count": 45,
   "metadata": {},
   "outputs": [
    {
     "data": {
      "text/plain": [
       "(400, 41987)"
      ]
     },
     "execution_count": 45,
     "metadata": {},
     "output_type": "execute_result"
    }
   ],
   "source": [
    "X_test = to_bag_of_words(X_raw_test, ord_vocab, index_dict)\n",
    "X_test = np.insert(X_test, 0, np.zeros(len(X_test)), axis=1)\n",
    "X_test.shape"
   ]
  },
  {
   "cell_type": "code",
   "execution_count": 46,
   "metadata": {},
   "outputs": [
    {
     "data": {
      "text/plain": [
       "array([   0., -950., -170., ...,   50.,  -10.,   10.])"
      ]
     },
     "execution_count": 46,
     "metadata": {},
     "output_type": "execute_result"
    }
   ],
   "source": [
    "baseline = model(iterations=1, learning_rate=10, reg_dampening=10)\n",
    "baseline.fit(X, y)"
   ]
  },
  {
   "cell_type": "code",
   "execution_count": 47,
   "metadata": {},
   "outputs": [
    {
     "name": "stdout",
     "output_type": "stream",
     "text": [
      "Test accuracy: 85.25% \twith model: alpha\n",
      "Test accuracy: 85.5% \twith model: alpha_2\n",
      "Test accuracy: 85.5% \twith model: final_model\n",
      "Test accuracy: 64.5% \twith model: baseline\n"
     ]
    }
   ],
   "source": [
    "print('Test accuracy:', str(alpha.score(X_test, y_test)*100) +'% \\twith model: alpha')\n",
    "print('Test accuracy:', str(alpha_2.score(X_test, y_test)*100) +'% \\twith model: alpha_2')\n",
    "print('Test accuracy:', str(final_model.score(X_test, y_test)*100) +'% \\twith model: final_model')\n",
    "print('Test accuracy:', str(baseline.score(X_test, y_test)*100) +'% \\twith model: baseline')"
   ]
  },
  {
   "cell_type": "code",
   "execution_count": null,
   "metadata": {},
   "outputs": [],
   "source": []
  }
 ],
 "metadata": {
  "kernelspec": {
   "display_name": "Python 3",
   "language": "python",
   "name": "python3"
  },
  "language_info": {
   "codemirror_mode": {
    "name": "ipython",
    "version": 3
   },
   "file_extension": ".py",
   "mimetype": "text/x-python",
   "name": "python",
   "nbconvert_exporter": "python",
   "pygments_lexer": "ipython3",
   "version": "3.8.12"
  }
 },
 "nbformat": 4,
 "nbformat_minor": 4
}
